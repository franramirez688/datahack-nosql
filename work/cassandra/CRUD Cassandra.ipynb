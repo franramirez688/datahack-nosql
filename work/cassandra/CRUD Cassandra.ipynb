{
 "cells": [
  {
   "cell_type": "markdown",
   "metadata": {},
   "source": [
    "# Operaciones CRUD en Cassandra"
   ]
  },
  {
   "cell_type": "code",
   "execution_count": null,
   "metadata": {},
   "outputs": [],
   "source": [
    "#https://datastax.github.io/python-driver/index.html\n",
    "#!pip install cassandra-driver"
   ]
  },
  {
   "cell_type": "code",
   "execution_count": null,
   "metadata": {},
   "outputs": [],
   "source": [
    "from cassandra.cluster import Cluster\n",
    "from cassandra.auth import PlainTextAuthProvider\n",
    "\n",
    "auth_provider = PlainTextAuthProvider(\n",
    "    username='cassandra', password='cassandra')\n",
    "cluster = Cluster(contact_points=['127.0.0.1'], port=9042, auth_provider=auth_provider)\n",
    "session = cluster.connect()\n",
    "session.execute(\"DROP KEYSPACE IF EXISTS test\")"
   ]
  },
  {
   "cell_type": "code",
   "execution_count": null,
   "metadata": {},
   "outputs": [],
   "source": [
    "session.execute(\"CREATE KEYSPACE demo WITH replication = {'class': 'SimpleStrategy', 'replication_factor' : 1}\")"
   ]
  },
  {
   "cell_type": "code",
   "execution_count": null,
   "metadata": {},
   "outputs": [],
   "source": [
    "session.set_keyspace('demo')"
   ]
  },
  {
   "cell_type": "code",
   "execution_count": null,
   "metadata": {},
   "outputs": [],
   "source": [
    "session.execute(\n",
    "    \"\"\"\n",
    "    CREATE TABLE users (\n",
    "    firstname text, \n",
    "    lastname text, \n",
    "    age int, \n",
    "    email text, \n",
    "    city text, \n",
    "    PRIMARY KEY (lastname))\n",
    "    \"\"\"\n",
    ")"
   ]
  },
  {
   "cell_type": "code",
   "execution_count": null,
   "metadata": {},
   "outputs": [],
   "source": [
    "#https://datastax.github.io/python-driver/getting_started.html#type-conversions\n",
    "\n",
    "session.execute(\n",
    "    \"\"\"\n",
    "    INSERT INTO users (firstname, lastname, age, email, city)\n",
    "    VALUES (%s, %s, %s, %s, %s)\n",
    "    \"\"\",\n",
    "    ('John', 'Smith', 46, 'johnsmith@email.com', 'Sacramento')\n",
    ")\n",
    "\n",
    "session.execute(\n",
    "    \"\"\"\n",
    "    INSERT INTO users (firstname, lastname, age, email, city)\n",
    "    VALUES (%s, %s, %s, %s, %s)\n",
    "    \"\"\",\n",
    "    ('Jane', 'Doe', 36, 'janedoe@email.com', 'Beverly Hills')\n",
    ")"
   ]
  },
  {
   "cell_type": "code",
   "execution_count": null,
   "metadata": {},
   "outputs": [],
   "source": [
    "session.execute(\n",
    "    \"\"\"\n",
    "    INSERT INTO users (firstname, lastname, age, email, city)\n",
    "    VALUES (%(firstname)s, %(lastname)s, %(age)s, %(email)s, %(city)s)\n",
    "    \"\"\",\n",
    "    {'firstname': \"Rob\", 'lastname': \"Byrne\", 'age': 24, 'email': \"robbyrne@email.com\", 'city': \"San Diego\"}\n",
    ")"
   ]
  },
  {
   "cell_type": "code",
   "execution_count": null,
   "metadata": {},
   "outputs": [],
   "source": [
    "result_cursor = session.execute(\"SELECT * FROM users\")\n",
    "\n",
    "for row in result_cursor:\n",
    "    print(row)"
   ]
  },
  {
   "cell_type": "code",
   "execution_count": null,
   "metadata": {},
   "outputs": [],
   "source": [
    "result_cursor = session.execute(\"SELECT * FROM users WHERE lastname= 'Doe'\")\n",
    "\n",
    "for row in result_cursor:\n",
    "    print(row.firstname, \" \", row.lastname, \" \", row.age, \" \", row.email, \" \", row.city)"
   ]
  },
  {
   "cell_type": "code",
   "execution_count": null,
   "metadata": {},
   "outputs": [],
   "source": [
    "session.execute(\"UPDATE users SET city= 'San Jose' WHERE lastname= 'Doe'\")"
   ]
  },
  {
   "cell_type": "code",
   "execution_count": null,
   "metadata": {},
   "outputs": [],
   "source": [
    "result_cursor = session.execute(\"SELECT * FROM users where lastname= 'Doe'\")\n",
    "\n",
    "for row in result_cursor:\n",
    "    print(row)"
   ]
  },
  {
   "cell_type": "code",
   "execution_count": null,
   "metadata": {},
   "outputs": [],
   "source": [
    "session.execute(\"DELETE from users WHERE lastname = 'Doe'\")"
   ]
  },
  {
   "cell_type": "code",
   "execution_count": null,
   "metadata": {},
   "outputs": [],
   "source": [
    "result_cursor = session.execute(\"SELECT * FROM users\")\n",
    "\n",
    "for row in result_cursor:\n",
    "    print(row)"
   ]
  }
 ],
 "metadata": {
  "kernelspec": {
   "display_name": "Python 3",
   "language": "python",
   "name": "python3"
  },
  "language_info": {
   "codemirror_mode": {
    "name": "ipython",
    "version": 3
   },
   "file_extension": ".py",
   "mimetype": "text/x-python",
   "name": "python",
   "nbconvert_exporter": "python",
   "pygments_lexer": "ipython3",
   "version": "3.6.3"
  }
 },
 "nbformat": 4,
 "nbformat_minor": 1
}
