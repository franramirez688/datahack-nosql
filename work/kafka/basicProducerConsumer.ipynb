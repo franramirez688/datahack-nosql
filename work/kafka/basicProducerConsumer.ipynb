{
 "cells": [
  {
   "cell_type": "markdown",
   "metadata": {},
   "source": [
    "## Kafka"
   ]
  },
  {
   "cell_type": "markdown",
   "metadata": {},
   "source": [
    "### 1. Crear un topic desde consola"
   ]
  },
  {
   "cell_type": "code",
   "execution_count": null,
   "metadata": {},
   "outputs": [],
   "source": [
    "!bash /opt/kafka/bin/kafka-topics.sh --create --zookeeper localhost:2181 --replication-factor 1 --partitions 1 --topic test"
   ]
  },
  {
   "cell_type": "markdown",
   "metadata": {},
   "source": [
    "### 2. Listar topics desde consola"
   ]
  },
  {
   "cell_type": "code",
   "execution_count": null,
   "metadata": {},
   "outputs": [],
   "source": [
    "!bash /opt/kafka/bin/kafka-topics.sh --list --zookeeper localhost:2181"
   ]
  },
  {
   "cell_type": "markdown",
   "metadata": {},
   "source": [
    "### 3. Listar configuración de un topic desde consola"
   ]
  },
  {
   "cell_type": "code",
   "execution_count": null,
   "metadata": {},
   "outputs": [],
   "source": [
    "!bash /opt/kafka/bin/kafka-topics.sh --describe --zookeeper localhost:2181 --topic test"
   ]
  },
  {
   "cell_type": "markdown",
   "metadata": {},
   "source": [
    "### 4. Insertar datos en un topic desde consola"
   ]
  },
  {
   "cell_type": "code",
   "execution_count": null,
   "metadata": {},
   "outputs": [],
   "source": [
    "!echo \"testing\" | bash /opt/kafka/bin/kafka-console-producer.sh --broker-list localhost:9092 --topic test "
   ]
  },
  {
   "cell_type": "markdown",
   "metadata": {},
   "source": [
    "### 5. Leer el registro insertado desde consola"
   ]
  },
  {
   "cell_type": "code",
   "execution_count": null,
   "metadata": {},
   "outputs": [],
   "source": [
    "!bash /opt/kafka/bin/kafka-console-consumer.sh --bootstrap-server localhost:9092 --topic test --from-beginning"
   ]
  },
  {
   "cell_type": "markdown",
   "metadata": {},
   "source": [
    "### 6. Insertar registros en un topic desde python\n",
    "Docuentación KafkaProducer: https://kafka-python.readthedocs.io/en/master/apidoc/KafkaProducer.html"
   ]
  },
  {
   "cell_type": "code",
   "execution_count": null,
   "metadata": {},
   "outputs": [],
   "source": [
    "# Vamos a utilizar la librería kafka-python\n",
    "# Para ello tenemos que tenerla instalada en nuestra distribución de python\n",
    "#!pip install kafka-python\n",
    "\n",
    "# Importamos la librería que hemos instalado\n",
    "from kafka import KafkaProducer"
   ]
  },
  {
   "cell_type": "code",
   "execution_count": null,
   "metadata": {},
   "outputs": [],
   "source": [
    "# Creamos un productor \n",
    "# Le indicamos cual es el kafka en el que queremos insertar\n",
    "# Insertamos 100 registros en el topic test\n",
    "\n",
    "producer = KafkaProducer(bootstrap_servers='localhost:9092')\n",
    "for _ in range(10):\n",
    "    producer.send('test2', b'some_message_bytes')"
   ]
  },
  {
   "cell_type": "markdown",
   "metadata": {},
   "source": [
    "### 7. Leemos los 10 registros insertados anteriormente desde python\n",
    "Documentación KafkaConsumer: https://kafka-python.readthedocs.io/en/master/apidoc/KafkaConsumer.html"
   ]
  },
  {
   "cell_type": "code",
   "execution_count": null,
   "metadata": {},
   "outputs": [],
   "source": [
    "from kafka import KafkaConsumer\n",
    "consumer = KafkaConsumer('test2', \n",
    "                         bootstrap_servers=['localhost:9092'],\n",
    "                         auto_offset_reset='earliest', \n",
    "                         enable_auto_commit=True)\n",
    "for msg in consumer:\n",
    "    print (msg)"
   ]
  },
  {
   "cell_type": "code",
   "execution_count": null,
   "metadata": {},
   "outputs": [],
   "source": [
    "my_group_consumer = KafkaConsumer('test2', \n",
    "                         bootstrap_servers=['localhost:9092'],\n",
    "                         auto_offset_reset='earliest', \n",
    "                         enable_auto_commit=True,\n",
    "                         group_id='my-group')\n",
    "for msg in my_group_consumer:\n",
    "    print (msg)"
   ]
  },
  {
   "cell_type": "markdown",
   "metadata": {},
   "source": [
    "### 8. Producir mensajes en formato JSON"
   ]
  },
  {
   "cell_type": "code",
   "execution_count": null,
   "metadata": {},
   "outputs": [],
   "source": [
    "import json\n",
    "json_producer = KafkaProducer(value_serializer=lambda v: json.dumps(v).encode('utf-8'))\n",
    "json_producer.send('jsontest', {'foo': 'bar'})\n"
   ]
  },
  {
   "cell_type": "markdown",
   "metadata": {},
   "source": [
    "### 9. Consumir mensajes en formato JSON"
   ]
  },
  {
   "cell_type": "code",
   "execution_count": null,
   "metadata": {},
   "outputs": [],
   "source": [
    "json_consumer = KafkaConsumer('jsontest', \n",
    "                         bootstrap_servers=['localhost:9092'],\n",
    "                         auto_offset_reset='earliest', \n",
    "                         enable_auto_commit=True)\n",
    "for msg in json_consumer:\n",
    "    print (msg)"
   ]
  },
  {
   "cell_type": "markdown",
   "metadata": {},
   "source": [
    "### 10. Uso de la key del mensaje "
   ]
  },
  {
   "cell_type": "code",
   "execution_count": null,
   "metadata": {},
   "outputs": [],
   "source": [
    "key_producer = KafkaProducer(key_serializer=str.encode)\n",
    "key_producer.send('keytest', key='ping', value=b'1234')"
   ]
  },
  {
   "cell_type": "code",
   "execution_count": null,
   "metadata": {},
   "outputs": [],
   "source": [
    "key_consumer = KafkaConsumer('keytest', \n",
    "                         bootstrap_servers=['localhost:9092'],\n",
    "                         auto_offset_reset='earliest', \n",
    "                         enable_auto_commit=True)\n",
    "for msg in key_consumer:\n",
    "    print ('Key:   ' + str(msg.key)) \n",
    "    print ('Value: ' + str(msg.value))"
   ]
  },
  {
   "cell_type": "markdown",
   "metadata": {},
   "source": [
    "### 11. Borrar topics desde consola"
   ]
  },
  {
   "cell_type": "code",
   "execution_count": null,
   "metadata": {},
   "outputs": [],
   "source": [
    "!bash /opt/kafka/bin/kafka-topics.sh --zookeeper localhost:2181 --delete --topic test"
   ]
  },
  {
   "cell_type": "code",
   "execution_count": null,
   "metadata": {},
   "outputs": [],
   "source": [
    "!bash /opt/kafka/bin/kafka-topics.sh --list --zookeeper localhost:2181"
   ]
  },
  {
   "cell_type": "markdown",
   "metadata": {},
   "source": [
    "### 12. Compactando topics\n",
    "<br><br>\n",
    "![png](../images/kafka-log-compaction.png)\n",
    "<br><br>\n",
    "![png](../images/kafka-log-compaction-process.png) \n",
    "<br><br>"
   ]
  },
  {
   "cell_type": "markdown",
   "metadata": {},
   "source": [
    "* min.cleanable.dirty.ratio -> https://docs.confluent.io/current/installation/configuration/topic-configs.html#min-cleanable-dirty-rati\n",
    "\n",
    "* delete.retention.ms -> https://docs.confluent.io/current/installation/configuration/topic-configs.html#delete-retention-ms\n",
    "\n",
    "* segment.ms -> https://docs.confluent.io/current/installation/configuration/topic-configs.html#segment-ms"
   ]
  },
  {
   "cell_type": "code",
   "execution_count": null,
   "metadata": {},
   "outputs": [],
   "source": [
    "!bash /opt/kafka/bin/kafka-topics.sh --zookeeper localhost:2181 --create --topic compacted4 --replication-factor 1 --partitions 1 --config min.insync.replicas=1 --config cleanup.policy=compact --config delete.retention.ms=1 --config min.cleanable.dirty.ratio=0.01 --config segment.ms=1\n",
    "!bash /opt/kafka/bin/kafka-configs.sh --zookeeper localhost:2181 --entity-type=topics --entity-name=compacted4 --alter --add-config cleanup.policy=compact,delete.retention.ms=1,min.cleanable.dirty.ratio=0.01,segment.ms=1\n",
    "    "
   ]
  },
  {
   "cell_type": "code",
   "execution_count": null,
   "metadata": {},
   "outputs": [],
   "source": [
    "!echo \"key1:testing1\" | bash /opt/kafka/bin/kafka-console-producer.sh --broker-list localhost:9092 --topic compacted5 --property \"parse.key=true\" --property \"key.separator=:\" "
   ]
  },
  {
   "cell_type": "code",
   "execution_count": null,
   "metadata": {},
   "outputs": [],
   "source": [
    "!bash /opt/kafka/bin/kafka-console-consumer.sh --bootstrap-server localhost:9092 --topic compacted5 --from-beginning --property print.key=true --property key.separator=\":\""
   ]
  },
  {
   "cell_type": "code",
   "execution_count": null,
   "metadata": {},
   "outputs": [],
   "source": [
    "!echo \"key2:testing1\" | bash /opt/kafka/bin/kafka-console-producer.sh --broker-list localhost:9092 --topic compacted5 --property \"parse.key=true\" --property \"key.separator=:\" "
   ]
  },
  {
   "cell_type": "code",
   "execution_count": null,
   "metadata": {},
   "outputs": [],
   "source": [
    "!bash /opt/kafka/bin/kafka-console-consumer.sh --bootstrap-server localhost:9092 --topic compacted5 --from-beginning --property print.key=true --property key.separator=\":\""
   ]
  },
  {
   "cell_type": "code",
   "execution_count": null,
   "metadata": {},
   "outputs": [],
   "source": [
    "!echo \"key2:testing2\" | bash /opt/kafka/bin/kafka-console-producer.sh --broker-list localhost:9092 --topic compacted5 --property \"parse.key=true\" --property \"key.separator=:\" "
   ]
  },
  {
   "cell_type": "code",
   "execution_count": null,
   "metadata": {},
   "outputs": [],
   "source": [
    "!bash /opt/kafka/bin/kafka-console-consumer.sh --bootstrap-server localhost:9092 --topic compacted5 --from-beginning --property print.key=true --property key.separator=\":\""
   ]
  }
 ],
 "metadata": {
  "kernelspec": {
   "display_name": "Python 3",
   "language": "python",
   "name": "python3"
  },
  "language_info": {
   "codemirror_mode": {
    "name": "ipython",
    "version": 3
   },
   "file_extension": ".py",
   "mimetype": "text/x-python",
   "name": "python",
   "nbconvert_exporter": "python",
   "pygments_lexer": "ipython3",
   "version": "3.6.3"
  }
 },
 "nbformat": 4,
 "nbformat_minor": 2
}
