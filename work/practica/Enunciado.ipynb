{
 "cells": [
  {
   "cell_type": "markdown",
   "metadata": {},
   "source": [
    "# Práctica: Calidad del aire de Madrid\n",
    "\n",
    "El objetivo de la práctica es afianzar y demostrar los conocimientos adquiridos en el modelado y gestión de datos en Cassandra.\n",
    "\n",
    "Para ello habra que realizar los siguientes ejercicios:\n",
    "* Pensar un caso de uso acorde al conjunto de datos proporcionado.\n",
    "* Crear el modelo de datos acorde al caso de uso que se ha pensado.\n",
    "* Crear las tablas necesarias en Cassandra.\n",
    "* Tratar e insertar los datos en las tablas creadas.\n",
    "* Realizar las consultas necesarias para el caso de uso pensado.\n",
    "\n",
    "Qué hay que entregar:\n",
    "* Descripción del caso de uso y justificación de por qué es adecuado para ralizaro con Cassandra.\n",
    "* Diagrama del modelo de datos.\n",
    "* Un notebook de Jupyter que contenga:\n",
    "    * * Todas las sentencias para crear las tablas\n",
    "    * * El código necesario para tratar los datos e insertarlos en Cassandra.\n",
    "    * * Las sentencias de consulta\n",
    "* Conclusiones:\n",
    "    * * Qué te parece Cassandra como data store.\n",
    "    * * Qué te ha parecido el ejercicio.\n",
    "    * * Qué has aprendido.\n",
    "    * * Qué has hechado de menos.\n",
    "    * * Cómo mejorarías la prática.\n",
    "    \n",
    "## El conjunto de datos\n",
    "\n",
    "El conjunto de datos hace referencia a la calidad del aire de la ciudad de Madrid.\n",
    "Es el conjunto de mediciones horarias de distintas métricas sobre la calidad del aire de Madrid durante el año 2017\n",
    "\n",
    "De dónde se han sacado los datos: \n",
    "* Portal de datos abiertos del Ayuntamiento de Madrid\n",
    "* https://datos.madrid.es/sites/v/index.jsp?vgnextoid=f3c0f7d512273410VgnVCM2000000c205a0aRCRD&vgnextchannel=374512b9ace9f310VgnVCM100000171f5a0aRCRD\n",
    "* https://datos.madrid.es/sites/v/index.jsp?vgnextoid=9e42c176313eb410VgnVCM1000000b205a0aRCRD&vgnextchannel=374512b9ace9f310VgnVCM100000171f5a0aRCRD\n",
    "\n",
    "Qué contienen los ficheros:\n",
    "* 12 ficheros con las mediciones horarias, uno por cada mes.\n",
    "    * * Formato CSV\n",
    "* 1 Fichero con la información de las estaciones de medición.\n",
    "    * * Formato CSV\n",
    "* 1 Fichero con la descripción de los datos y el procedimiento de medición.\n",
    "    * * Formato PDF\n",
    "    \n",
    "### Ficheros con mediciones\n",
    "\n",
    "Listado de campos:\n",
    "* PROVINCIA = Código numérico de la provincia (28).\n",
    "* MUNICIPIO = Código numérico del municipio (079).\n",
    "* ESTACION = Número de estación.\n",
    "* MAGNITUD = Magnitud que se está midiendo. Ver Anexo II \"Magnitudes, unidades y técnicas de medida\".\n",
    "* PUNTO_MUESTREO = Tiene el siguiente formato XXYYYZZZ_M_TT. XXYYYZZZ representa la estación de medida.\n",
    "    * * XX = Códido de provincia\n",
    "    * * YYY = Código de municipio\n",
    "    * * ZZZ = Número de estación\n",
    "    * * M = Magnitud\n",
    "    * * TT = Técnica de medida\n",
    "* ANO = Año en el que se tomó la medición.\n",
    "* MES = Mes del año en el que se tomó la medición\n",
    "* DIA = Día del mes en el que se tomó la medición.\n",
    "* H01 - H24 = Hora del día en el que se tomó la medición.\n",
    "* V01 - V24 = Indica si la medición es válida. ÚNICAMENTE SON VÁLIDOS LOS DATOS QUE LLEVAN EL CÓDIGO \"V\"\n"
   ]
  },
  {
   "cell_type": "code",
   "execution_count": null,
   "metadata": {},
   "outputs": [],
   "source": [
    "import pandas as pd\n",
    "\n",
    "df_data = pd.read_csv(\"data/abr_mo17.csv\", header = 0, sep = ';')\n",
    "print(df_data.info())\n",
    "print(df_data.head(10))"
   ]
  },
  {
   "cell_type": "markdown",
   "metadata": {},
   "source": [
    "### Fichero de estaciones\n",
    "\n",
    "Listado de campos:\n",
    "* NUMERO = Código de estación.\n",
    "* ESTACION = Nombre de la estación. \n",
    "* DIRECCION = Dirección de la estación.\n",
    "* LONGITUD = Logitud geográfica de la ubicación de la estación. En grados, minutos y segundos.\n",
    "* LATITUD = Latitud geográfica de la ubicación de la estación. En grados, minutos y segundos.\n",
    "* ALTITUD = Altitud sobre el nivel del mar en metros.\n",
    "* TIPO ESTACION:\n",
    "    * * UT = Urbana de tráfico\n",
    "    * * UF = Urbana de fondo\n",
    "    * * S = Suburbanam\n",
    "* CONTAMINANTE MEDIDO = Magnitud que se está midiendo. Ver Anexo II \"Magnitudes, unidades y técnicas de medida\".\n",
    "    * * NO2;SO2;CO;PM10;PM2,5;O3;BTX;HC = Sólo mide las magnitudes que esténa 1.\n",
    "* SENSORES METEOROLÓGICOS\n",
    "    * * UV;VV;DV;TMP;HR;PRB;RS;LL = Sólo mide las magnitudes que esténa 1.\n"
   ]
  },
  {
   "cell_type": "code",
   "execution_count": null,
   "metadata": {},
   "outputs": [],
   "source": [
    "df_estaciones = pd.read_csv(\"data/estaciones.csv\", header = 0, sep = ';')\n",
    "print(df_estaciones.info())\n",
    "print(df_estaciones.head(10))"
   ]
  },
  {
   "cell_type": "markdown",
   "metadata": {},
   "source": [
    "# Puedes continuar aquí con tu ejercicio"
   ]
  },
  {
   "cell_type": "code",
   "execution_count": null,
   "metadata": {},
   "outputs": [],
   "source": []
  }
 ],
 "metadata": {
  "kernelspec": {
   "display_name": "Python 3",
   "language": "python",
   "name": "python3"
  },
  "language_info": {
   "codemirror_mode": {
    "name": "ipython",
    "version": 3
   },
   "file_extension": ".py",
   "mimetype": "text/x-python",
   "name": "python",
   "nbconvert_exporter": "python",
   "pygments_lexer": "ipython3",
   "version": "3.6.3"
  }
 },
 "nbformat": 4,
 "nbformat_minor": 2
}
